{
  "cells": [
    {
      "cell_type": "markdown",
      "metadata": {
        "id": "view-in-github",
        "colab_type": "text"
      },
      "source": [
        "<a href=\"https://colab.research.google.com/github/glorychern/ui-ux-learning-resource/blob/main/Copy_of_OSL_example_with_notes.ipynb\" target=\"_parent\"><img src=\"https://colab.research.google.com/assets/colab-badge.svg\" alt=\"Open In Colab\"/></a>"
      ]
    },
    {
      "cell_type": "markdown",
      "metadata": {
        "id": "aIAMnCCkuY4m"
      },
      "source": [
        "We start with a full 4 by 4 Hamiltonian $H_{full}$,\n",
        "\n",
        "$$ H_{\\text{full}} = \\begin{bmatrix}\n",
        "1.44792484 & 0.88504728 & 0.25784263 & 0.10590017 \\\\\n",
        "0.88504728 & 3.67229552 & -0.26984386 & -0.01791287 \\\\\n",
        "0.25784263 & -0.26984386 & 2.09992258 & -0.45397867 \\\\\n",
        "0.10590017 & -0.01791287 & -0.45397867 & 2.77985706 \\\\\n",
        "\\end{bmatrix} $$\n",
        "\n",
        "Suppose that $H_{\\text{full}}$ is calculated in the following basis,\n",
        "$$\n",
        "\\vert b_1 \\rangle, \\vert b_2 \\rangle, \\vert b_3 \\rangle, \\vert b_4 \\rangle.\n",
        "$$\n",
        "and $$H_{\\text{full}}(i,j) = \\langle b_i \\vert b_j \\rangle$. Additionally suppose that we identified that $\\vert b_1 \\rangle, \\vert b_3 \\rangle$ were the two basis states with most significant contribution to the states we are interested in.\n",
        "\n",
        "We then would like to find the effective Hamiltonian through OSL transformation.\n",
        "\n",
        "We first diagonalize this $H_{\\text{full}}$,"
      ]
    },
    {
      "cell_type": "code",
      "execution_count": null,
      "metadata": {
        "id": "AYEzhNvjuY4p",
        "outputId": "45e6e678-9eac-4276-e2b0-97e77439ac9a"
      },
      "outputs": [
        {
          "name": "stdout",
          "output_type": "stream",
          "text": [
            "Diagonalized matrix H_d:\n",
            "[[1.00000001 0.         0.         0.        ]\n",
            " [0.         4.         0.         0.        ]\n",
            " [0.         0.         2.         0.        ]\n",
            " [0.         0.         0.         3.        ]]\n",
            "Eigenvectors:\n",
            "[[-0.87048568  0.3181021  -0.37117851 -0.0573782 ]\n",
            " [ 0.32381352  0.94101319  0.05916005 -0.07835214]\n",
            " [ 0.34225192 -0.10291829 -0.82243348 -0.44257724]\n",
            " [ 0.14234856  0.05208695 -0.4270009   0.89145615]]\n"
          ]
        }
      ],
      "source": [
        "import numpy as np\n",
        "\n",
        "# Define the matrix\n",
        "H_full = np.array([[1.44792484, 0.88504728, 0.25784263, 0.10590017],\n",
        "                   [0.88504728, 3.67229552, -0.26984386, -0.01791287],\n",
        "                   [0.25784263, -0.26984386, 2.09992258, -0.45397867],\n",
        "                   [0.10590017, -0.01791287, -0.45397867, 2.77985706]])\n",
        "\n",
        "# Perform eigendecomposition\n",
        "eigenvalues, eigenvectors = np.linalg.eig(H_full)\n",
        "\n",
        "# Create the diagonal matrix\n",
        "H_d = np.diag(eigenvalues)\n",
        "\n",
        "# Print the diagonalized matrix H_d\n",
        "print(\"Diagonalized matrix H_d:\")\n",
        "print(H_d)\n",
        "\n",
        "# Print the eigenvectors\n",
        "print(\"Eigenvectors:\")\n",
        "print(eigenvectors)\n"
      ]
    },
    {
      "cell_type": "code",
      "execution_count": null,
      "metadata": {
        "id": "RvVDSnjKuY4r",
        "outputId": "4125da1e-8859-4b2a-b821-e18d333457b4"
      },
      "outputs": [
        {
          "name": "stdout",
          "output_type": "stream",
          "text": [
            "Eigenvalue 1: 1.0000000057535772\n",
            "Eigenvector 1: [-0.87048568  0.32381352  0.34225192  0.14234856]\n",
            "Explicit check for Eigenvalue 1: True\n",
            "Eigenvalue 2: 3.9999999987355315\n",
            "Eigenvector 2: [ 0.3181021   0.94101319 -0.10291829  0.05208695]\n",
            "Explicit check for Eigenvalue 2: True\n",
            "Eigenvalue 3: 1.999999996771928\n",
            "Eigenvector 3: [-0.37117851  0.05916005 -0.82243348 -0.4270009 ]\n",
            "Explicit check for Eigenvalue 3: True\n",
            "Eigenvalue 4: 2.9999999987389665\n",
            "Eigenvector 4: [-0.0573782  -0.07835214 -0.44257724  0.89145615]\n",
            "Explicit check for Eigenvalue 4: True\n"
          ]
        }
      ],
      "source": [
        "for i in range(len(eigenvalues)):\n",
        "    eigenvector = eigenvectors[:, i]\n",
        "    check = np.allclose(H_full @ eigenvector, eigenvalues[i] * eigenvector)\n",
        "    print(f\"Eigenvalue {i+1}: {eigenvalues[i]}\")\n",
        "    print(f\"Eigenvector {i+1}: {eigenvector}\")\n",
        "    print(f\"Explicit check for Eigenvalue {i+1}: {check}\")\n"
      ]
    },
    {
      "cell_type": "markdown",
      "metadata": {
        "id": "xPw4PJs8uY4r"
      },
      "source": [
        "We have obtained 4 eigen values with corresponding eigen vectors. Let us also demonstrate that the eigenvectors give us the unitary transform matrix $U_{full}$, we can check that $U_{full}$ is a unitary matrix,"
      ]
    },
    {
      "cell_type": "code",
      "execution_count": null,
      "metadata": {
        "id": "SlEFS-HpuY4r",
        "outputId": "ebf487b6-e676-48b9-e343-7e4dddde051f"
      },
      "outputs": [
        {
          "data": {
            "text/plain": [
              "array([[ 1.00000000e+00,  8.76627174e-10,  8.30858643e-09,\n",
              "        -9.43592394e-09],\n",
              "       [ 8.76627174e-10,  9.99999995e-01, -4.36064795e-10,\n",
              "        -3.26271731e-09],\n",
              "       [ 8.30858643e-09, -4.36064795e-10,  9.99999996e-01,\n",
              "         1.52701550e-09],\n",
              "       [-9.43592394e-09, -3.26271731e-09,  1.52701550e-09,\n",
              "         9.99999995e-01]])"
            ]
          },
          "execution_count": 38,
          "metadata": {},
          "output_type": "execute_result"
        }
      ],
      "source": [
        "import numpy as np\n",
        "\n",
        "# Given eigenvectors\n",
        "eigenvectors = np.array([\n",
        "    [-0.87048568, 0.32381352, 0.34225192, 0.14234856],\n",
        "    [-0.37117851, 0.05916005, -0.82243348, -0.4270009],\n",
        "    [-0.0573782, -0.07835214, -0.44257724, 0.89145615],\n",
        "    [0.3181021, 0.94101319, -0.10291829, 0.05208695]\n",
        "])\n",
        "\n",
        "# Calculate the transpose of the matrix\n",
        "transposed_matrix = eigenvectors.T\n",
        "\n",
        "result=eigenvectors@transposed_matrix\n",
        "\n",
        "result\n"
      ]
    },
    {
      "cell_type": "code",
      "execution_count": null,
      "metadata": {
        "id": "EP4U9sCmuY4s",
        "outputId": "5417f8b0-4b03-4f39-ba7f-1e617852d136"
      },
      "outputs": [
        {
          "data": {
            "text/plain": [
              "True"
            ]
          },
          "execution_count": 39,
          "metadata": {},
          "output_type": "execute_result"
        }
      ],
      "source": [
        "# Check if the matrix is unitary\n",
        "is_unitary = np.allclose(result, np.eye(4))\n",
        "\n",
        "is_unitary"
      ]
    },
    {
      "cell_type": "code",
      "execution_count": null,
      "metadata": {
        "id": "7mTBOKOAuY4s",
        "outputId": "6a7be920-e0cc-4698-d538-21c305027d74"
      },
      "outputs": [
        {
          "name": "stdout",
          "output_type": "stream",
          "text": [
            "U_full_inverse @ H_full @ U_full: [[ 2.43965175  0.17260181  1.29663212  0.37935349]\n",
            " [ 0.17260182  2.79196156 -0.25662561 -0.45893598]\n",
            " [ 1.29663214 -0.2566256   2.26965162  0.54552086]\n",
            " [ 0.37935349 -0.45893597  0.54552086  2.49873508]]\n",
            "H_d = U_full_inverse @ H_full @ U_full: False\n"
          ]
        }
      ],
      "source": [
        "# Define U_full as the eigenvectors\n",
        "U_full = eigenvectors\n",
        "\n",
        "# Calculate the inverse of U_full\n",
        "U_full_inverse = np.linalg.inv(U_full)\n",
        "\n",
        "# Demonstrate that H_d = U_full_inverse @ H_full @ U_full\n",
        "result = np.allclose(H_d, U_full_inverse @ H_full @ U_full)\n",
        "print(\"U_full_inverse @ H_full @ U_full:\", U_full_inverse @ H_full @ U_full)\n",
        "print(\"H_d = U_full_inverse @ H_full @ U_full:\", result)\n"
      ]
    },
    {
      "cell_type": "markdown",
      "metadata": {
        "id": "MInVqvpjuY4s"
      },
      "source": [
        "At this point, our task is to identify which 2 out of the 4 eigenstate received most significant contribution from the two basis states $\\vert b_1 \\rangle, \\vert b_3 \\rangle$."
      ]
    },
    {
      "cell_type": "code",
      "execution_count": null,
      "metadata": {
        "id": "8EKBHf6NuY4s",
        "outputId": "aee1eab4-757f-4b2d-d523-be7bc77cebf2"
      },
      "outputs": [
        {
          "name": "stdout",
          "output_type": "stream",
          "text": [
            "Eigenvalue: 1.0000000057535772\n",
            "Eigenvector: [-0.87048568  0.32381352  0.34225192  0.14234856]\n",
            "Square Sum: 0.8748816958287489\n",
            "\n",
            "Eigenvalue: 1.999999996771928\n",
            "Eigenvector: [-0.37117851  0.05916005 -0.82243348 -0.4270009 ]\n",
            "Square Sum: 0.8141703153107306\n",
            "\n",
            "Eigenvalue: 2.9999999987389665\n",
            "Eigenvector: [-0.0573782  -0.07835214 -0.44257724  0.89145615]\n",
            "Square Sum: 0.1991668712012576\n",
            "\n",
            "Eigenvalue: 3.9999999987355315\n",
            "Eigenvector: [ 0.3181021   0.94101319 -0.10291829  0.05208695]\n",
            "Square Sum: 0.1117811204409341\n",
            "\n"
          ]
        }
      ],
      "source": [
        "import numpy as np\n",
        "\n",
        "eigenvalues = np.array([1.0000000057535772, 3.9999999987355315, 1.999999996771928, 2.9999999987389665])\n",
        "eigenvectors = np.array([[-0.87048568, 0.32381352, 0.34225192, 0.14234856],\n",
        "                         [0.3181021, 0.94101319, -0.10291829, 0.05208695],\n",
        "                         [-0.37117851, 0.05916005, -0.82243348, -0.4270009],\n",
        "                         [-0.0573782, -0.07835214, -0.44257724, 0.89145615]])\n",
        "\n",
        "# Calculate the square sum v[0]^2 + v[2]^2 for each eigenvector\n",
        "square_sums = np.sum(eigenvectors[:, [0, 2]]**2, axis=1)\n",
        "\n",
        "# Create a class to store eigenvalue, eigenvector, and square sum\n",
        "class EigenClass:\n",
        "    def __init__(self, eigenvalue, eigenvector, square_sum):\n",
        "        self.eigenvalue = eigenvalue\n",
        "        self.eigenvector = eigenvector\n",
        "        self.square_sum = square_sum\n",
        "\n",
        "# Create a list of EigenClass instances\n",
        "eigen_classes = [EigenClass(eigenvalue, eigenvector, square_sum) for eigenvalue, eigenvector, square_sum in zip(eigenvalues, eigenvectors, square_sums)]\n",
        "\n",
        "# Sort the eigen classes by square sum from largest to smallest\n",
        "sorted_eigen_classes = sorted(eigen_classes, key=lambda x: x.square_sum, reverse=True)\n",
        "\n",
        "# Print the sorted eigen classes\n",
        "for eigen_class in sorted_eigen_classes:\n",
        "    print(f\"Eigenvalue: {eigen_class.eigenvalue}\")\n",
        "    print(f\"Eigenvector: {eigen_class.eigenvector}\")\n",
        "    print(f\"Square Sum: {eigen_class.square_sum}\")\n",
        "    print()\n"
      ]
    },
    {
      "cell_type": "markdown",
      "metadata": {
        "id": "ztNKyUM3uY4t"
      },
      "source": [
        "As we have now identified that eigenstates with eigenvalues $1$ and $2$ receives most significant contributions from the two basis states $\\vert b_1 \\rangle, \\vert b_3 \\rangle$. So we rearrange $H_d$ and swap column of $U_{full}$ accordingly.\n",
        "\n",
        "$$ H_{\\text{d}(new)} = \\begin{bmatrix}\n",
        "1.0 & 0.0 & 0.0 & 0.0 \\\\\n",
        "0.0 & 2.0 & 0.0 & 0.0 \\\\\n",
        "0.0 & 0.0 & 4.0 & 0.0 \\\\\n",
        "0.0 & 0.0 & 0.0 & 3.0 \\\\\n",
        "\\end{bmatrix} $$\n",
        "\n",
        "and the corresponding $U_{full(new)}$ as,\n",
        "\n",
        "$$\n",
        "U_{full(new)}=\\begin{bmatrix}\n",
        "-0.87048568 & -0.37117851 & 0.3181021 & -0.0573782 \\\\\n",
        "0.32381352 & 0.05916005 & 0.94101319 & -0.07835214 \\\\\n",
        "0.34225192 & -0.82243348 & -0.10291829 & -0.44257724 \\\\\n",
        "0.14234856 & -0.4270009 & 0.05208695 & 0.89145615 \\\\\n",
        "\\end{bmatrix}\n",
        "$$\n",
        "\n",
        "\n"
      ]
    },
    {
      "cell_type": "code",
      "execution_count": null,
      "metadata": {
        "id": "6bp0lEtzuY4t",
        "outputId": "d527da0f-1252-48b7-9d2e-732d71995bea"
      },
      "outputs": [
        {
          "name": "stdout",
          "output_type": "stream",
          "text": [
            "U_full_new_inverse @ H_full @ U_full_new:\n",
            "[[ 1.00000001e+00  1.59240233e-09  1.10127973e-08 -7.41444731e-09]\n",
            " [ 2.46902954e-09  2.00000000e+00 -2.29922611e-09 -3.84579391e-09]\n",
            " [-1.72949743e-08 -8.82466077e-09  4.00000000e+00  2.81398621e-09]\n",
            " [ 9.20272536e-09 -4.28185865e-09  1.28697059e-09  3.00000000e+00]]\n",
            "H_d_new:\n",
            "[[1 0 0 0]\n",
            " [0 2 0 0]\n",
            " [0 0 4 0]\n",
            " [0 0 0 3]]\n",
            "Check if U_full_new_inverse @ H_full @ U_full_new = H_d_new:\n",
            "True\n"
          ]
        }
      ],
      "source": [
        "import numpy as np\n",
        "\n",
        "H_d_new = np.diag([1, 2, 4, 3])\n",
        "\n",
        "U_full_new = np.array([[-0.87048568, -0.37117851, 0.3181021, -0.0573782],\n",
        "                      [0.32381352, 0.05916005, 0.94101319, -0.07835214],\n",
        "                      [0.34225192, -0.82243348, -0.10291829, -0.44257724],\n",
        "                      [0.14234856, -0.4270009, 0.05208695, 0.89145615]])\n",
        "\n",
        "U_full_new_inverse = np.linalg.inv(U_full_new)\n",
        "\n",
        "result = U_full_new_inverse @ H_full @ U_full_new\n",
        "check = np.allclose(result, H_d_new, atol=1e-6)\n",
        "\n",
        "print(\"U_full_new_inverse @ H_full @ U_full_new:\")\n",
        "print(result)\n",
        "print(\"H_d_new:\")\n",
        "print(H_d_new)\n",
        "print(\"Check if U_full_new_inverse @ H_full @ U_full_new = H_d_new:\")\n",
        "print(check)\n"
      ]
    },
    {
      "cell_type": "markdown",
      "metadata": {
        "id": "b8PH8pq7uY4t"
      },
      "source": [
        "As of now, we identified our $(H_d)_P$ as\n",
        "\n",
        "$$\n",
        "(H_d)_P = \\begin{bmatrix}\n",
        "1.0 & 0 \\\\\n",
        "0 & 2.0 \\\\\n",
        "\\end{bmatrix}\n",
        "$$\n",
        "\n",
        "\n",
        "$U_P$ as a 2 by 2 matrix,\n",
        "\n",
        "$$\n",
        "U_P = \\begin{bmatrix}\n",
        "-0.87048568 & -0.37117851 \\\\\n",
        "0.32381352 & 0.05916005 \\\\\n",
        "\\end{bmatrix}\n",
        "$$\n",
        "\n",
        "We need to unitarized $U_P$,\n",
        "\n",
        "$$\n",
        "U_{P(unitary)} = \\frac{U_P}{\\sqrt{U_P^\\dagger U_P}} , \\quad U_{P(unitary)}^\\dagger = \\frac{U_P^\\dagger}{\\sqrt{U_P^\\dagger U_P}}\n",
        "$$\n",
        "\n",
        "Practically, we calculate the as following,\n",
        "\n",
        "$$\n",
        "U_{P(unitary)} = \\sqrt{U_P U_P^\\dagger} U_P^{\\dagger-1} , \\quad U_{P(unitary)}^\\dagger = (U_P)^{-1}\\sqrt{U_P U_P^\\dagger}\n",
        "$$"
      ]
    },
    {
      "cell_type": "code",
      "execution_count": null,
      "metadata": {
        "id": "23oPV_hGuY4t",
        "outputId": "0694422c-5ead-4c34-b1f4-e7b3b1d4e17b"
      },
      "outputs": [
        {
          "name": "stdout",
          "output_type": "stream",
          "text": [
            "U_P divided by the square root of U_P times U_P_T:\n",
            "[[-0.75945543 -0.65055934]\n",
            " [ 0.65055934 -0.75945543]]\n",
            "U_P_T divided by the square root of U_P times U_P_T:\n",
            "[[-0.75945543  0.65055934]\n",
            " [-0.65055934 -0.75945543]]\n"
          ]
        }
      ],
      "source": [
        "import numpy as np\n",
        "from scipy.linalg import sqrtm\n",
        "\n",
        "# Define U_P matrix\n",
        "U_P = np.array([[-0.87048568, -0.37117851],\n",
        "                [0.32381352, 0.05916005]])\n",
        "\n",
        "# Transpose of U_P\n",
        "U_P_T = U_P.T\n",
        "\n",
        "# U_P times Transpose of U_P\n",
        "result = U_P @ U_P_T\n",
        "\n",
        "# Square root of the result\n",
        "sqrt_result = sqrtm(result)\n",
        "\n",
        "# You can check that sqrt_result@sqrt_result = result\n",
        "\n",
        "# Element-wise division of U_P by the square root of the result\n",
        "U_P_unitary = sqrt_result@np.linalg.inv(U_P_T)\n",
        "U_P_T_unitary= np.linalg.inv(U_P)@sqrt_result\n",
        "\n",
        "# Display the results\n",
        "print(\"U_P divided by the square root of U_P times U_P_T:\")\n",
        "print(U_P_unitary)\n",
        "print(\"U_P_T divided by the square root of U_P times U_P_T:\")\n",
        "print(U_P_T_unitary)\n"
      ]
    },
    {
      "cell_type": "code",
      "execution_count": null,
      "metadata": {
        "id": "xAeUg-mWuY4t",
        "outputId": "6b13ed12-e32b-40ec-a17a-f1b1ce89984e"
      },
      "outputs": [
        {
          "data": {
            "text/plain": [
              "array([[1.00000000e+00, 5.55111512e-16],\n",
              "       [7.21644966e-16, 1.00000000e+00]])"
            ]
          },
          "execution_count": 44,
          "metadata": {},
          "output_type": "execute_result"
        }
      ],
      "source": [
        "U_P_unitary@U_P_T_unitary"
      ]
    },
    {
      "cell_type": "code",
      "execution_count": null,
      "metadata": {
        "id": "zoD2ju30uY4u",
        "outputId": "1783a6fa-66d6-42f5-faf9-4de2cf5f21f6"
      },
      "outputs": [
        {
          "name": "stdout",
          "output_type": "stream",
          "text": [
            "Is division_result unitary? True\n"
          ]
        }
      ],
      "source": [
        "# Check if division_result is unitary\n",
        "is_unitary = np.allclose(np.eye(2), U_P_unitary@U_P_unitary.T)\n",
        "\n",
        "# Display the result\n",
        "print(\"Is division_result unitary?\", is_unitary)"
      ]
    },
    {
      "cell_type": "markdown",
      "metadata": {
        "id": "47PO0maGuY4u"
      },
      "source": [
        "So now we have found out unitary matrix in P space,\n",
        "\n",
        "\n",
        "$$\n",
        "U_{P(unitary)} = \\begin{bmatrix}\n",
        "-0.75945543 & -0.65055934 \\\\\n",
        "0.65055934 & -0.75945543\n",
        "\\end{bmatrix}\n",
        "$$\n",
        "and\n",
        "$$\n",
        "U_{P(unitary)}^\\dagger =\n",
        "\\begin{bmatrix}\n",
        "-0.75945543 & 0.65055934 \\\\\n",
        "-0.65055934 & -0.75945543 \\\\\n",
        "\\end{bmatrix}\n",
        "$$\n",
        "and our effective Hamiltonian after OSL transformation is,\n",
        "$$\n",
        "H_{eff} = U_{P(unitary)}^\\dagger (H_d)_P U_{P(unitary)}\n",
        "$$\n",
        "The numerical result is,\n",
        "$$H_{eff} =\n",
        "\\begin{bmatrix}\n",
        "1.42322746 & -0.49407082 \\\\\n",
        "-0.49407082 & 1.57677254 \\\\\n",
        "\\end{bmatrix}\n",
        "$$\n",
        "\n"
      ]
    },
    {
      "cell_type": "code",
      "execution_count": null,
      "metadata": {
        "id": "QnWkUqDouY4u",
        "outputId": "0d8ce409-08ac-44a7-803a-34dfced209e1"
      },
      "outputs": [
        {
          "data": {
            "text/plain": [
              "array([[ 1.42322746, -0.49407082],\n",
              "       [-0.49407082,  1.57677254]])"
            ]
          },
          "execution_count": 46,
          "metadata": {},
          "output_type": "execute_result"
        }
      ],
      "source": [
        "U_P_T_unitary@np.diag(np.arange(1, 3))@U_P_unitary"
      ]
    },
    {
      "cell_type": "code",
      "execution_count": null,
      "metadata": {
        "id": "P5h3blJLuY4u",
        "outputId": "7c9b0d5d-db05-4003-cf74-8ab9e0f6b746"
      },
      "outputs": [
        {
          "name": "stdout",
          "output_type": "stream",
          "text": [
            "Diagonalized matrix:\n",
            "[[1. 0.]\n",
            " [0. 2.]]\n",
            "Eigenvectors:\n",
            "[[-0.75945542  0.65055934]\n",
            " [-0.65055934 -0.75945542]]\n"
          ]
        }
      ],
      "source": [
        "import numpy as np\n",
        "\n",
        "# Define the matrix\n",
        "matrix = np.array([[1.42322746, -0.49407082],\n",
        "                   [-0.49407082, 1.57677254]])\n",
        "\n",
        "# Perform eigendecomposition\n",
        "eigenvalues, eigenvectors = np.linalg.eig(matrix)\n",
        "\n",
        "# Create the diagonal matrix\n",
        "diagonal_matrix = np.diag(eigenvalues)\n",
        "\n",
        "# Print the diagonalized matrix\n",
        "print(\"Diagonalized matrix:\")\n",
        "print(diagonal_matrix)\n",
        "\n",
        "# Print the eigenvectors\n",
        "print(\"Eigenvectors:\")\n",
        "print(eigenvectors)\n"
      ]
    }
  ],
  "metadata": {
    "kernelspec": {
      "display_name": "base",
      "language": "python",
      "name": "python3"
    },
    "language_info": {
      "codemirror_mode": {
        "name": "ipython",
        "version": 3
      },
      "file_extension": ".py",
      "mimetype": "text/x-python",
      "name": "python",
      "nbconvert_exporter": "python",
      "pygments_lexer": "ipython3",
      "version": "3.9.13"
    },
    "colab": {
      "provenance": [],
      "include_colab_link": true
    }
  },
  "nbformat": 4,
  "nbformat_minor": 0
}